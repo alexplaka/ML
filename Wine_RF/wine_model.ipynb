{
 "cells": [
  {
   "cell_type": "code",
   "execution_count": null,
   "id": "575c12f6",
   "metadata": {},
   "outputs": [],
   "source": [
    "from sklearn.datasets import load_wine\n",
    "from sklearn.model_selection import train_test_split, GridSearchCV\n",
    "from sklearn.preprocessing import StandardScaler\n",
    "from sklearn.pipeline import make_pipeline\n",
    "from sklearn.ensemble import RandomForestClassifier\n",
    "from sklearn.metrics import f1_score, matthews_corrcoef, confusion_matrix, classification_report\n",
    "import joblib"
   ]
  },
  {
   "cell_type": "code",
   "execution_count": null,
   "id": "c34c875d",
   "metadata": {
    "lines_to_next_cell": 0
   },
   "outputs": [],
   "source": [
    "data, y = load_wine(return_X_y=True, as_frame=(True))\n",
    "\n",
    "X_train, X_test, y_train, y_test = train_test_split(data, y, random_state=0,\n",
    "                                                    test_size=0.2, stratify=y)\n",
    "\n",
    "pipe = make_pipeline(StandardScaler(),\n",
    "                     RandomForestClassifier(n_estimators=100, random_state=0))"
   ]
  },
  {
   "cell_type": "code",
   "execution_count": null,
   "id": "fd222aa1",
   "metadata": {
    "lines_to_next_cell": 0
   },
   "outputs": [],
   "source": [
    "# print(pipe.get_params())\n",
    "\n",
    "hyperparams = {\"randomforestclassifier__max_features\": [\"auto\", \"sqrt\", \"log2\"],\n",
    "               \"randomforestclassifier__max_leaf_nodes\": [None, 2, 3, 5, 7, 9],\n",
    "               \"randomforestclassifier__max_depth\": [None, 1, 3, 5, 7]}\n",
    "model = GridSearchCV(pipe, hyperparams, cv=10)\n",
    "model.fit(X_train, y_train)\n",
    "print(f\"Best parameters after grid search: {model.best_params_}\\nwith score {model.best_score_}\")\n",
    "\n",
    "# If model.refit is true (default), the model automatically refits to all of X_train.\n",
    "print(f\"Automatic refit to full X_train: {model.refit}\")\n",
    "\n",
    "y_pred = model.predict(X_test)  # Predict classes in test set"
   ]
  },
  {
   "cell_type": "code",
   "execution_count": null,
   "id": "3ed38cd9",
   "metadata": {},
   "outputs": [],
   "source": [
    "# Calculate metrics of prediction quality\n",
    "f1 = f1_score(y_test, y_pred, average='weighted')\n",
    "matt = matthews_corrcoef(y_test, y_pred)\n",
    "confusion = confusion_matrix(y_test, y_pred)\n",
    "print(classification_report(y_test, y_pred))"
   ]
  },
  {
   "cell_type": "code",
   "execution_count": null,
   "id": "1a786655",
   "metadata": {},
   "outputs": [],
   "source": [
    "joblib.dump(model, 'wine_rf.joblib')  # save model for later use\n",
    "# model2 = joblib.load('wine_rf.pkl')  # reload model"
   ]
  }
 ],
 "metadata": {
  "jupytext": {
   "cell_metadata_filter": "-all",
   "main_language": "python",
   "notebook_metadata_filter": "-all"
  },
  "kernelspec": {
   "display_name": "Python 3 (Spyder)",
   "language": "python3",
   "name": "python3"
  },
  "language_info": {
   "codemirror_mode": {
    "name": "ipython",
    "version": 3
   },
   "file_extension": ".py",
   "mimetype": "text/x-python",
   "name": "python",
   "nbconvert_exporter": "python",
   "pygments_lexer": "ipython3",
   "version": "3.9.6"
  }
 },
 "nbformat": 4,
 "nbformat_minor": 5
}
